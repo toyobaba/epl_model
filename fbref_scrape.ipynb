{
 "metadata": {
  "language_info": {
   "codemirror_mode": {
    "name": "ipython",
    "version": 3
   },
   "file_extension": ".py",
   "mimetype": "text/x-python",
   "name": "python",
   "nbconvert_exporter": "python",
   "pygments_lexer": "ipython3",
   "version": "3.8.1-final"
  },
  "orig_nbformat": 2,
  "kernelspec": {
   "name": "python_defaultSpec_1598299916462",
   "display_name": "Python 3.8.1 64-bit"
  }
 },
 "nbformat": 4,
 "nbformat_minor": 2,
 "cells": [
  {
   "cell_type": "code",
   "execution_count": 2,
   "metadata": {},
   "outputs": [],
   "source": [
    "import requests\n",
    "from bs4 import BeautifulSoup\n",
    "import pandas as pd\n",
    "import numpy as np\n",
    "import re\n",
    "import itertools\n",
    "import os\n",
    "import pathlib\n",
    "from os import getcwd"
   ]
  },
  {
   "cell_type": "code",
   "execution_count": 2,
   "metadata": {},
   "outputs": [],
   "source": [
    "urlYearsDic = {\n",
    "    \"1920\":\"https://fbref.com/en/comps/9/Premier-League-Stats\",\n",
    "    \"1819\":\"https://fbref.com/en/comps/9/1889/2018-2019-Premier-League-Stats\",\n",
    "    \"1718\":\"https://fbref.com/en/comps/9/1631/2017-2018-Premier-League-Stats\",\n",
    "    \"1617\":\"https://fbref.com/en/comps/9/1526/2016-2017-Premier-League-Stats\",\n",
    "    \"1516\":\"https://fbref.com/en/comps/9/1467/2015-2016-Premier-League-Stats\",\n",
    "    \"1415\":\"https://fbref.com/en/comps/9/733/2014-2015-Premier-League-Stats\",\n",
    "    \"1314\":\"https://fbref.com/en/comps/9/669/2013-2014-Premier-League-Stats\",\n",
    "    \"1213\":\"https://fbref.com/en/comps/9/602/2012-2013-Premier-League-Stats\",\n",
    "    \"1112\":\"https://fbref.com/en/comps/9/534/2011-2012-Premier-League-Stats\",\n",
    "    \"1011\":\"https://fbref.com/en/comps/9/467/2010-2011-Premier-League-Stats\",\n",
    "    \"0910\":\"https://fbref.com/en/comps/9/400/2009-2010-Premier-League-Stats\",\n",
    "    \"0809\":\"https://fbref.com/en/comps/9/338/2008-2009-Premier-League-Stats\",\n",
    "    \"0708\":\"https://fbref.com/en/comps/9/282/2007-2008-Premier-League-Stats\",\n",
    "    \"0607\":\"https://fbref.com/en/comps/9/229/2006-2007-Premiership-Stats\",\n",
    "    \"0506\":\"https://fbref.com/en/comps/9/183/2005-2006-Premiership-Stats\",\n",
    "    \"0405\":\"https://fbref.com/en/comps/9/146/2004-2005-Premiership-Stats\",\n",
    "    \"0304\":\"https://fbref.com/en/comps/9/112/2003-2004-Premiership-Stats\",\n",
    "    \"0203\":\"https://fbref.com/en/comps/9/84/2002-2003-Premiership-Stats\",\n",
    "    \"0102\":\"https://fbref.com/en/comps/9/63/2001-2002-Premiership-Stats\",\n",
    "    \"0001\":\"https://fbref.com/en/comps/9/47/2000-2001-Premiership-Stats\"}"
   ]
  },
  {
   "cell_type": "code",
   "execution_count": 15,
   "metadata": {
    "tags": [
     "outputPrepend"
    ]
   },
   "outputs": [
    {
     "output_type": "stream",
     "name": "stdout",
     "text": "s', 'Pts/G']\n20\n   0                1   2   3  4  5 6 7 8   9    10  11  12  13 14 15 16 17  \\\n0  1          Arsenal  19  15  4  0        49  2.58  19  11   8  0            \n1  2          Chelsea  19  12  4  3        40  2.11  19  12   3  4            \n2  3   Manchester Utd  19  12  4  3        40  2.11  19  11   2  6            \n3  4        Liverpool  19  10  4  5        34  1.79  19   6   8  5            \n4  5    Newcastle Utd  19  11  5  3        38  2.00  19   2  12  5            \n\n   18    19  \n0  41  2.16  \n1  39  2.05  \n2  35  1.84  \n3  26  1.37  \n4  18  0.95  \n2\n['Squad', '# Pl', 'Poss', 'MP', 'Starts', 'Min', 'Gls', 'Ast', 'PK', 'PKatt', 'CrdY', 'CrdR', 'Gls', 'Ast', 'G+A', 'G-PK', 'G+A-PK']\n17\n                 0   1 2   3    4 5   6   7  8  9  10 11    12    13    14  \\\n0          Arsenal  22    38  419    69  52  7  7  51  3  1.82  1.37  3.18   \n1      Aston Villa  24    38  418    48  34  4  5  52  3  1.26  0.89  2.16   \n2  Birmingham City  27    38  428    43  29  4  5  45  5  1.13  0.76  1.89   \n3        Blackburn  27    38  412    52  39  0  0  58  3  1.37  1.03  2.39   \n4           Bolton  24    38  433    47  35  1  1  63  0  1.24  0.92  2.16   \n\n     15    16  \n0  1.63  3.00  \n1  1.16  2.05  \n2  1.03  1.79  \n3  1.37  2.39  \n4  1.21  2.13  \n3\n['Squad', '# Pl', 'MP', 'Starts', 'Min', 'GA', 'GA90', 'SoTA', 'Saves', 'Save%', 'W', 'D', 'L', 'CS', 'CS%', 'PKatt', 'PKA', 'PKsv', 'PKm']\n19\n                 0  1   2   3      4   5     6    7    8     9  10  11  12  \\\n0          Arsenal  1  38  38  3,420  26  0.68  114   88  .772  26  12   0   \n1      Aston Villa  2  38  38  3,420  44  1.16  173  129  .746  15  11  12   \n2  Birmingham City  2  38  38  3,420  48  1.26  183  135  .738  12  14  12   \n3        Blackburn  2  38  38  3,420  59  1.55  201  142  .706  12   8  18   \n4           Bolton  1  38  38  3,420  56  1.47  182  126  .692  14  11  13   \n\n   13    14 15 16 17 18  \n0  15  39.5              \n1  12  31.6              \n2  15  39.5              \n3   8  21.1              \n4  10  26.3              \n4\n['Squad', '# Pl', 'Gls', 'Sh', 'SoT', 'SoT%', 'Sh/90', 'SoT/90', 'G/Sh', 'G/SoT', 'PK', 'PKatt']\n12\n                 0   1   2 3    4 5 6     7 8     9 10 11\n0          Arsenal  22  69    235      6.18    0.26  7  7\n1      Aston Villa  24  48    182      4.79    0.24  4  5\n2  Birmingham City  27  43    161      4.24    0.24  4  5\n3        Blackburn  27  52    184      4.84    0.28  0  0\n4           Bolton  24  47    212      5.58    0.22  1  1\n5\n['Squad', '# Pl', 'MP', 'Min', 'Mn/MP', 'Min%', 'Starts', 'Mn/Start', 'Subs', 'Mn/Sub', 'unSub', 'PPM', 'onG', 'onGA', '+/-', '+/-90']\n16\n                 0   1   2 3 4    5    6 7    8  9 10    11  12  13   14 15\n0          Arsenal  22  38      100  419     89  0     2.37  73  26  +47   \n1      Aston Villa  24  38      100  418     93  0     1.47  48  44   +4   \n2  Birmingham City  27  38      100  428    101  0     1.32  43  48   -5   \n3        Blackburn  27  38      100  412    102  0     1.16  51  59   -8   \n4           Bolton  24  38      100  433     87  0     1.39  48  56   -8\n6\n['Squad', '# Pl', 'CrdY', 'CrdR', '2CrdY', 'Fls', 'Fld', 'Off', 'Crs', 'Int', 'TklW', 'PKwon', 'PKcon', 'OG']\n14\n                 0   1   2  3 4    5 6 7 8 9 10 11 12 13\n0          Arsenal  22  51  3    532                    \n1      Aston Villa  24  52  3    609                    \n2  Birmingham City  27  45  5    560                    \n3        Blackburn  27  58  3    556                    \n4           Bolton  24  63  0    521                    \n7\n['Rk', 'Nation', '# Players', 'Min', 'List']\n5\n   0             1    2        3  \\\n0  1   eng England  159  245,477   \n1  2     fr France   44   65,895   \n2  3    ie Ireland   34   62,029   \n3  4  sco Scotland   27   30,785   \n4                                  \n\n                                                   4  \n0  Alan Shearer, Frank Lampard, James Beattie, Ke...  \n1  Thierry Henry, Steed Malbranque, Robert Pirès,...  \n2  Robbie Keane, Matt Holland, Paul Butler, Shay ...  \n3  Paul Dickov, Alex Rae, Gary Naysmith, Dominic ...  \n4                  View Complete Nationalities Table  \n0\n['Rk', 'Squad', 'MP', 'W', 'D', 'L', 'GF', 'GA', 'GDiff', 'Pts', 'Attendance', 'Top Team Scorer', 'Goalkeeper', 'Notes']\n14\n   0                1   2   3   4   5   6   7    8   9      10  \\\n0  1   Manchester Utd  38  25   8   5  74  34  +40  83  67,602   \n1  2          Arsenal  38  23   9   6  85  42  +43  78  38,042   \n2  3    Newcastle Utd  38  21   6  11  63  48  +15  69  51,923   \n3  4          Chelsea  38  19  10   9  68  38  +30  67  39,784   \n4  5        Liverpool  38  18  10  10  61  41  +20  64  43,243   \n\n                         11              12  \\\n0  Ruud van Nistelrooy - 25  Fabien Barthez   \n1        Thierry Henry - 24    David Seaman   \n2         Alan Shearer - 17      Shay Given   \n3      Gianfranco Zola - 14  Carlo Cudicini   \n4         Michael Owen - 19     Jerzy Dudek   \n\n                                          13  \n0  → UEFA Champions League via league finish  \n1  → UEFA Champions League via league finish  \n2  → UEFA Champions League via league finish  \n3  → UEFA Champions League via league finish  \n4               → UEFA Cup via league finish  \n1\n['Rk', 'Squad', 'MP', 'W', 'D', 'L', 'GF', 'GA', 'GDiff', 'Pts', 'Pts/G', 'MP', 'W', 'D', 'L', 'GF', 'GA', 'GDiff', 'Pts', 'Pts/G']\n20\n   0                1   2   3  4  5 6 7 8   9    10  11 12 13 14 15 16 17  18  \\\n0  1   Manchester Utd  19  16  2  1        50  2.63  19  9  6  4           33   \n1  2          Arsenal  19  15  2  2        47  2.47  19  8  7  4           31   \n2  3    Newcastle Utd  19  15  2  2        47  2.47  19  6  4  9           22   \n3  4          Chelsea  19  12  5  2        41  2.16  19  7  5  7           26   \n4  5        Liverpool  19   9  8  2        35  1.84  19  9  2  8           29   \n\n     19  \n0  1.74  \n1  1.63  \n2  1.16  \n3  1.37  \n4  1.53  \n2\n['Squad', '# Pl', 'Poss', 'MP', 'Starts', 'Min', 'Gls', 'Ast', 'PK', 'PKatt', 'CrdY', 'CrdR', 'Gls', 'Ast', 'G+A', 'G-PK', 'G+A-PK']\n17\n                 0   1 2   3    4 5   6   7  8  9  10 11    12    13    14  \\\n0          Arsenal  28    38  418    84  66  5  6  47  2  2.21  1.74  3.95   \n1      Aston Villa  27    38  418    42  29  3  4  58  4  1.11  0.76  1.87   \n2  Birmingham City  34    38  418    40  26  4  5  66  3  1.05  0.68  1.74   \n3        Blackburn  27    38  418    50  38  5  6  55  4  1.32  1.00  2.32   \n4           Bolton  27    38  418    38  24  1  2  54  3  1.00  0.63  1.63   \n\n     15    16  \n0  2.08  3.82  \n1  1.03  1.79  \n2  0.95  1.63  \n3  1.18  2.18  \n4  0.97  1.61  \n3\n['Squad', '# Pl', 'MP', 'Starts', 'Min', 'GA', 'GA90', 'SoTA', 'Saves', 'Save%', 'W', 'D', 'L', 'CS', 'CS%', 'PKatt', 'PKA', 'PKsv', 'PKm']\n19\n                 0  1   2   3      4   5     6    7    8     9  10  11  12  \\\n0          Arsenal  3  38  38  3,420  42  1.11  147  105  .714  23   9   6   \n1      Aston Villa  2  38  38  3,420  47  1.24  176  129  .733  12   9  17   \n2  Birmingham City  4  38  38  3,420  49  1.29  171  122  .713  13   9  16   \n3        Blackburn  2  38  38  3,420  43  1.13  207  164  .792  16  12  10   \n4           Bolton  1  38  38  3,420  51  1.34  189  138  .730  10  14  14   \n\n   13    14 15 16 17 18  \n0  10  26.3              \n1   9  23.7              \n2   9  23.7              \n3  15  39.5              \n4  10  26.3              \n4\n['Squad', '# Pl', 'Gls', 'Sh', 'SoT', 'SoT%', 'Sh/90', 'SoT/90', 'G/Sh', 'G/SoT', 'PK', 'PKatt']\n12\n                 0   1   2 3    4 5 6     7 8     9 10 11\n0          Arsenal  28  84    259      6.82    0.31  5  6\n1      Aston Villa  27  42    196      5.16    0.20  3  4\n2  Birmingham City  34  40    141      3.71    0.26  4  5\n3        Blackburn  27  50    174      4.58    0.26  5  6\n4           Bolton  27  38    152      4.00    0.24  1  2\n5\n['Squad', '# Pl', 'MP', 'Min', 'Mn/MP', 'Min%', 'Starts', 'Mn/Start', 'Subs', 'Mn/Sub', 'unSub', 'PPM', 'onG', 'onGA', '+/-', '+/-90']\n16\n                 0   1   2 3 4    5    6 7    8  9 10    11  12  13   14 15\n0          Arsenal  28  38      100  418    104  0     2.05  85  42  +43   \n1      Aston Villa  27  38      100  418     92  0     1.18  42  47   -5   \n2  Birmingham City  34  38      100  418    109  0     1.26  41  49   -8   \n3        Blackburn  27  38      100  418     87  0     1.58  52  43   +9   \n4           Bolton  27  38      100  418     94  0     1.16  41  51  -10   \n6\n['Squad', '# Pl', 'CrdY', 'CrdR', '2CrdY', 'Fls', 'Fld', 'Off', 'Crs', 'Int', 'TklW', 'PKwon', 'PKcon', 'OG']\n14\n                 0   1   2  3 4    5 6 7 8 9 10 11 12 13\n0          Arsenal  28  47  2    515                    \n1      Aston Villa  27  58  4    571                    \n2  Birmingham City  34  66  3    553                    \n3        Blackburn  27  55  4    590                    \n4           Bolton  27  54  3    464\n7\n['Rk', 'Nation', '# Players', 'Min', 'List']\n5\n   0             1    2        3  \\\n0  1   eng England  154  239,285   \n1  2     fr France   36   69,341   \n2  3    ie Ireland   35   55,799   \n3  4  sco Scotland   19   21,603   \n4                                  \n\n                                                   4  \n0  James Beattie, Michael Owen, Alan Shearer, Ted...  \n1  Thierry Henry, Nicolas Anelka, Youri Djorkaeff...  \n2  Robbie Keane, Damien Duff, Shay Given, Dean Ki...  \n3  David Weir, Derek McInnes, Paul Telfer, Gary N...  \n4                  View Complete Nationalities Table  \n0\n['Rk', 'Squad', 'MP', 'W', 'D', 'L', 'GF', 'GA', 'GDiff', 'Pts', 'Attendance', 'Top Team Scorer', 'Goalkeeper', 'Notes']\n14\n   0                1   2   3   4  5   6   7    8   9      10  \\\n0  1          Arsenal  38  26   9  3  79  36  +43  87  38,055   \n1  2        Liverpool  38  24   8  6  67  30  +37  80  43,389   \n2  3   Manchester Utd  38  24   5  9  87  45  +42  77  67,558   \n3  4    Newcastle Utd  38  21   8  9  74  52  +22  71  51,373   \n4  5     Leeds United  38  18  12  8  53  37  +16  66  39,752   \n\n                         11              12  \\\n0        Thierry Henry - 24    David Seaman   \n1         Michael Owen - 19     Jerzy Dudek   \n2  Ruud van Nistelrooy - 23  Fabien Barthez   \n3         Alan Shearer - 23      Shay Given   \n4        Robbie Fowler - 15    Nigel Martyn   \n\n                                          13  \n0  → UEFA Champions League via league finish  \n1  → UEFA Champions League via league finish  \n2  → UEFA Champions League via league finish  \n3  → UEFA Champions League via league finish  \n4               → UEFA Cup via league finish  \n1\n['Rk', 'Squad', 'MP', 'W', 'D', 'L', 'GF', 'GA', 'GDiff', 'Pts', 'Pts/G', 'MP', 'W', 'D', 'L', 'GF', 'GA', 'GDiff', 'Pts', 'Pts/G']\n20\n   0                1   2   3  4  5 6 7 8   9    10  11  12 13 14 15 16 17  \\\n0  1          Arsenal  19  12  4  3        40  2.11  19  14  5  0            \n1  2        Liverpool  19  12  5  2        41  2.16  19  12  3  4            \n2  3   Manchester Utd  19  11  2  6        35  1.84  19  13  3  3            \n3  4    Newcastle Utd  19  12  3  4        39  2.05  19   9  5  5            \n4  5     Leeds United  19   9  6  4        33  1.74  19   9  6  4            \n\n   18    19  \n0  47  2.47  \n1  39  2.05  \n2  42  2.21  \n3  32  1.68  \n4  33  1.74  \n2\n['Squad', '# Pl', 'Poss', 'MP', 'Starts', 'Min', 'Gls', 'Ast', 'PK', 'PKatt', 'CrdY', 'CrdR', 'Gls', 'Ast', 'G+A', 'G-PK', 'G+A-PK']\n17\n              0   1 2   3    4 5   6   7  8  9  10 11    12    13    14    15  \\\n0       Arsenal  25    38  431    79  54  6  7  77  6  2.08  1.42  3.50  1.92   \n1   Aston Villa  21    38  410    44  38  2  2  41  2  1.16  1.00  2.16  1.11   \n2     Blackburn  24    38  416    54  39  1  1  57  4  1.42  1.03  2.45  1.39   \n3        Bolton  28    38  407    42  25  0  1  57  6  1.11  0.66  1.76  1.11   \n4  Charlton Ath  25    38  418    36  25  0  1  63  3  0.95  0.66  1.61  0.95   \n\n     16  \n0  3.34  \n1  2.11  \n2  2.42  \n3  1.76  \n4  1.61  \n3\n['Squad', '# Pl', 'MP', 'Starts', 'Min', 'GA', 'GA90', 'SoTA', 'Saves', 'Save%', 'W', 'D', 'L', 'CS', 'CS%', 'PKatt', 'PKA', 'PKsv', 'PKm']\n19\n              0  1   2   3      4   5     6    7    8     9  10  11  12  13  \\\n0       Arsenal  3  38  38  3,420  36  0.95  178  142  .798  26   9   3  14   \n1   Aston Villa  2  38  38  3,420  47  1.24  193  146  .756  12  14  12   9   \n2     Blackburn  2  38  38  3,420  51  1.34  250  199  .796  12  10  16   8   \n3        Bolton  4  38  38  3,420  62  1.63  248  186  .750   9  13  16   7   \n4  Charlton Ath  1  38  38  3,420  49  1.29  223  174  .780  10  14  14  12   \n\n     14 15 16 17 18  \n0  36.8              \n1  23.7              \n2  21.1              \n3  18.4              \n4  31.6              \n4\n['Squad', '# Pl', 'Gls', 'Sh', 'SoT', 'SoT%', 'Sh/90', 'SoT/90', 'G/Sh', 'G/SoT', 'PK', 'PKatt']\n12\n              0   1   2 3    4 5 6     7 8     9 10 11\n0       Arsenal  25  79    292      7.68    0.25  6  7\n1   Aston Villa  21  44    202      5.32    0.21  2  2\n2     Blackburn  24  54    253      6.66    0.21  1  1\n3        Bolton  28  42    205      5.39    0.20  0  1\n4  Charlton Ath  25  36    212      5.58    0.17  0  1\n5\n['Squad', '# Pl', 'MP', 'Min', 'Mn/MP', 'Min%', 'Starts', 'Mn/Start', 'Subs', 'Mn/Sub', 'unSub', 'PPM', 'onG', 'onGA', '+/-', '+/-90']\n16\n              0   1   2 3 4    5    6 7   8  9 10    11  12  13   14 15\n0       Arsenal  25  38      100  431    83  0     2.29  79  36  +43   \n1   Aston Villa  21  38      100  410    71  0     1.32  46  47   -1   \n2     Blackburn  24  38      100  416    86  0     1.21  55  51   +4   \n3        Bolton  28  38      100  407    98  0     1.05  44  62  -18   \n4  Charlton Ath  25  38      100  418    96  0     1.16  38  49  -11   \n6\n['Squad', '# Pl', 'CrdY', 'CrdR', '2CrdY', 'Fls', 'Fld', 'Off', 'Crs', 'Int', 'TklW', 'PKwon', 'PKcon', 'OG']\n14\n              0   1   2  3 4    5 6 7 8 9 10 11 12 13\n0       Arsenal  25  77  6    539                    \n1   Aston Villa  21  41  2    485                    \n2     Blackburn  24  57  4    533                    \n3        Bolton  28  57  6    506                    \n4  Charlton Ath  25  63  3    500                    \n7\n['Rk', 'Nation', '# Players', 'Min', 'List']\n5\n   0             1    2        3  \\\n0  1   eng England  152  252,500   \n1  2     fr France   37   61,026   \n2  3    ie Ireland   30   44,687   \n3  4  sco Scotland   22   37,638   \n4                                  \n\n                                                   4  \n0  Alan Shearer, Kevin Phillips, Matt Jansen, Mic...  \n1  Thierry Henry, Laurent Robert, Robert Pirès, S...  \n2  Ian Harte, Matt Holland, Damien Duff, Steve Fi...  \n3  David Weir, Christian Dailly, Scot Gemmill, Ma...  \n4                  View Complete Nationalities Table  \n0\n['Rk', 'Squad', 'MP', 'W', 'D', 'L', 'GF', 'GA', 'GDiff', 'Pts', 'Attendance', 'Top Team Scorer', 'Goalkeeper', 'Notes']\n14\n   0                1   2   3   4   5   6   7    8   9      10  \\\n0  1   Manchester Utd  38  24   8   6  79  31  +48  80  67,489   \n1  2          Arsenal  38  20  10   8  63  38  +25  70  37,974   \n2  3        Liverpool  38  20   9   9  71  39  +32  69  43,698   \n3  4     Leeds United  38  20   8  10  64  43  +21  68  38,974   \n4  5     Ipswich Town  38  20   6  12  57  42  +15  66  22,532   \n\n                      11                 12  \\\n0  Teddy Sheringham - 15     Fabien Barthez   \n1     Thierry Henry - 17       David Seaman   \n2      Michael Owen - 16  Sander Westerveld   \n3       Mark Viduka - 17       Nigel Martyn   \n4    Marcus Stewart - 19     Richard Wright   \n\n                                          13  \n0  → UEFA Champions League via league finish  \n1  → UEFA Champions League via league finish  \n2  → UEFA Champions League via league finish  \n3               → UEFA Cup via league finish  \n4             → UEFA Cup via league finish 1  \n1\n['Rk', 'Squad', 'MP', 'W', 'D', 'L', 'GF', 'GA', 'GDiff', 'Pts', 'Pts/G', 'MP', 'W', 'D', 'L', 'GF', 'GA', 'GDiff', 'Pts', 'Pts/G']\n20\n   0                1   2   3  4  5 6 7 8   9    10  11 12 13 14 15 16 17  18  \\\n0  1   Manchester Utd  19  15  2  2        47  2.47  19  9  6  4           33   \n1  2          Arsenal  19  15  3  1        48  2.53  19  5  7  7           22   \n2  3        Liverpool  19  13  4  2        43  2.26  19  7  5  7           26   \n3  4     Leeds United  19  11  3  5        36  1.89  19  9  5  5           32   \n4  5     Ipswich Town  19  11  5  3        38  2.00  19  9  1  9           28   \n\n     19  \n0  1.74  \n1  1.16  \n2  1.37  \n3  1.68  \n4  1.47  \n2\n['Squad', '# Pl', 'Poss', 'MP', 'Starts', 'Min', 'Gls', 'Ast', 'PK', 'PKatt', 'CrdY', 'CrdR', 'Gls', 'Ast', 'G+A', 'G-PK', 'G+A-PK']\n17\n               0   1 2   3    4 5   6   7  8  9  10 11    12    13    14  \\\n0        Arsenal  26    38  418    62  52  1  2  48  3  1.63  1.37  3.00   \n1    Aston Villa  22    38  419    46  35  1  1  64  3  1.21  0.92  2.13   \n2  Bradford City  27    38  366    26  17  3  5  58  1  0.68  0.45  1.13   \n3   Charlton Ath  27    38  418    47  33  3  3  47  2  1.24  0.87  2.11   \n4        Chelsea  26    38  411    67  49  4  4  75  2  1.76  1.29  3.05   \n\n     15    16  \n0  1.61  2.97  \n1  1.18  2.11  \n2  0.61  1.05  \n3  1.16  2.03  \n4  1.66  2.95  \n3\n['Squad', '# Pl', 'MP', 'Starts', 'Min', 'GA', 'GA90', 'SoTA', 'Saves', 'Save%', 'W', 'D', 'L', 'CS', 'CS%', 'PKatt', 'PKA', 'PKsv', 'PKm']\n19\n               0  1   2   3      4   5     6    7    8     9  10  11  12  13  \\\n0        Arsenal  3  38  38  3,420  38  1.00  133   95  .714  20  10   8  17   \n1    Aston Villa  1  38  38  3,420  43  1.13  166  123  .741  13  15  10   9   \n2  Bradford City  3  38  38  3,583  73  1.83  275  202  .735   5  11  22   6   \n3   Charlton Ath  3  38  38  3,420  58  1.53  195  137  .703  14  10  14  14   \n4        Chelsea  2  38  38  3,420  45  1.18  150  105  .700  17  10  11  10   \n\n     14 15 16 17 18  \n0  44.7              \n1  23.7              \n2  15.8              \n3  36.8              \n4  26.3              \n4\n['Squad', '# Pl', 'Gls', 'Sh', 'SoT', 'SoT%', 'Sh/90', 'SoT/90', 'G/Sh', 'G/SoT', 'PK', 'PKatt']\n12\n               0   1   2 3    4 5 6     7 8     9 10 11\n0        Arsenal  26  62    267      7.03    0.23  1  2\n1    Aston Villa  22  46    166      4.37    0.27  1  1\n2  Bradford City  27  26    123      3.24    0.19  3  5\n3   Charlton Ath  27  47    216      5.68    0.20  3  3\n4        Chelsea  26  67    220      5.79    0.29  4  4\n5\n['Squad', '# Pl', 'MP', 'Min', 'Mn/MP', 'Min%', 'Starts', 'Mn/Start', 'Subs', 'Mn/Sub', 'unSub', 'PPM', 'onG', 'onGA', '+/-', '+/-90']\n16\n               0   1   2 3 4    5    6 7    8  9 10    11  12  13   14 15\n0        Arsenal  26  38      100  418     83  0     1.84  63  38  +25   \n1    Aston Villa  22  38      100  419     73  0     1.42  46  43   +3   \n2  Bradford City  27  38      100  366     70  0     0.68  30  70  -40   \n3   Charlton Ath  27  38      100  418    107  0     1.37  50  57   -7   \n4        Chelsea  26  38      100  411    105  0     1.61  68  45  +23   \n6\n['Squad', '# Pl', 'CrdY', 'CrdR', '2CrdY', 'Fls', 'Fld', 'Off', 'Crs', 'Int', 'TklW', 'PKwon', 'PKcon', 'OG']\n14\n               0   1   2  3 4    5 6 7 8 9 10 11 12 13\n0        Arsenal  26  48  3    509                    \n1    Aston Villa  22  64  3    540                    \n2  Bradford City  27  58  1    487                    \n3   Charlton Ath  27  47  2    451                    \n4        Chelsea  26  75  2    528                    \n7\n['Rk', 'Nation', '# Players', 'Min', 'List']\n5\n   0             1    2        3  \\\n0  1   eng England  174  274,381   \n1  2  sco Scotland   34   42,544   \n2  3    ie Ireland   30   52,433   \n3  4     fr France   23   36,125   \n4                                  \n\n                                                   4  \n0  Kevin Phillips, David Beckham, Lee Bowyer, Pau...  \n1  Don Hutchison, David Weir, Stuart McCall, Matt...  \n2  Matt Holland, Ian Harte, Niall Quinn, Rory Del...  \n3  Thierry Henry, Patrick Vieira, Robert Pirès, O...  \n4                  View Complete Nationalities Table  \n"
    }
   ],
   "source": [
    "for URLKey in urlYearsDic:\n",
    "    page = requests.get(urlYearsDic[URLKey])\n",
    "    comm = re.compile(\"<!--|-->\")\n",
    "    soup = BeautifulSoup(comm.sub(\"\",page.text),'lxml')\n",
    "    all_tables = soup.findAll(\"tbody\")\n",
    "    all_headers = soup.findAll(\"thead\")\n",
    "    all_table_titles = soup.findAll(attrs={\"class\": \"section_heading\"})\n",
    "    # print(len(all_table_titles))\n",
    "    # print(len(all_tables))\n",
    "    # print(len(all_headers))\n",
    "\n",
    "    j= 0\n",
    "    titleList =[]\n",
    "    for title in all_table_titles:\n",
    "    #print(title.text)\n",
    "        tit = title.find('span')#.find_all()\n",
    "        tit = tit.get(\"data-label\")\n",
    "        if(tit in [\"League Table\", \"Squad Standard Stats\", \"Squad Goalkeeping\",\"Squad Shooting\",\"Squad Playing Time\", \"Squad Miscellaneous Stats\",\"Nationalities\", \"Squad Advanced Goalkeeping\", \"Squad Passing\", \"Squad Pass Types\", \"Squad Goal and Shot Creation\", \"Squad Defensive Actions\", \"Squad Possession\"]):\n",
    "            if (j == 2):\n",
    "                tit = tit+\" Home and Away\"\n",
    "            j+=1\n",
    "            titleList.append(tit)\n",
    "            continue\n",
    "        j+=1\n",
    "\n",
    "\n",
    "    i=0\n",
    "    for (table, header) in itertools.zip_longest(all_tables, all_headers):\n",
    "        table_rows = table.find_all('tr')\n",
    "        header_rows = header.find_all('tr')\n",
    "        colnames = header_rows[len(header_rows)-1]\n",
    "        th = colnames.find_all('th')\n",
    "        cols = [colnames.text for colnames in th]\n",
    "        #if (i in [0,1]):\n",
    "           # cols.pop(0)\n",
    "        l = []\n",
    "        for tr in table_rows:\n",
    "            td = tr.find_all(['th','td'])\n",
    "            row = [tr.text for tr in td]\n",
    "            l.append(row)\n",
    "        df =pd.DataFrame(l)\n",
    "        print(i)\n",
    "        print(cols)\n",
    "        print(len(df.columns))\n",
    "        print(df.head())\n",
    "        df.columns = cols\n",
    "        p = pathlib.Path(URLKey+\"/\").mkdir(parents=True, exist_ok=True)\n",
    "        df.to_csv(os.path.join(URLKey,titleList[i]+\".csv\"), index = None)\n",
    "        i+=1\n",
    "\n",
    "\n",
    "#for table\n"
   ]
  },
  {
   "cell_type": "code",
   "execution_count": 9,
   "metadata": {
    "tags": []
   },
   "outputs": [
    {
     "output_type": "stream",
     "name": "stdout",
     "text": "4\n5\n6\n7\n8\n9\n10\n11\n12\n13\n14\n15\n16\n17\n18\n19\n20\n"
    }
   ],
   "source": [
    "for i in range(4,21):\n",
    "    i2 = str(i).zfill(2)\n",
    "    if (i == 15):\n",
    "        page = \"https://www.fifaindex.com/teams/fifa15_16/?league=13&order=desc\" \n",
    "    elif (i == 16):\n",
    "        page = \"https://www.fifaindex.com/teams/fifa16_19/?league=13&order=desc\"\n",
    "    elif (i == 17):\n",
    "        page = \"https://www.fifaindex.com/teams/fifa17_75/?league=13&order=desc\" \n",
    "    elif (i == 18):\n",
    "        page = \"https://www.fifaindex.com/teams/fifa18_175/?league=13&order=desc\" \n",
    "    elif (i == 19):\n",
    "        page = \"https://www.fifaindex.com/teams/fifa19_279/?league=13&order=desc\" \n",
    "    elif (i == 20):\n",
    "        page = \"https://www.fifaindex.com/teams/fifa20_358/?league=13&order=desc\" \n",
    "    else:\n",
    "        page = \"https://www.fifaindex.com/teams/fifa\"+i2+\"/?league=13&order=desc\"\n",
    "\n",
    "    page = requests.get(page)\n",
    "    soup = BeautifulSoup(page.text,'lxml')\n",
    "    all_tables = soup.findAll(\"tbody\")\n",
    "    all_headers = soup.findAll(\"thead\")\n",
    "\n",
    "    for (table, header) in itertools.zip_longest(all_tables, all_headers):\n",
    "            table_rows = table.find_all('tr')\n",
    "            header_rows = header.find_all('tr')\n",
    "            colnames = header_rows[len(header_rows)-1]\n",
    "            th = colnames.find_all('th')\n",
    "            cols = [colnames.text for colnames in th]\n",
    "            #if (i in [0,1]):\n",
    "            # cols.pop(0)\n",
    "            l = []\n",
    "            for tr in table_rows:\n",
    "                td = tr.find_all(['th','td'])\n",
    "                row = [tr.text for tr in td]\n",
    "                l.append(row)\n",
    "            df =pd.DataFrame(l)\n",
    "            df.columns = cols\n",
    "            df = df.replace(to_replace='None', value=np.nan).dropna()\n",
    "            #print(df)\n",
    "            #p = pathlib.Path(str(i).zfill(2)+str(i+1).zfill(2)+\"/\").mkdir(parents=True, exist_ok=True)\n",
    "            df.to_csv(os.path.join(str(i-1).zfill(2)+i2+\"/Fifa_Rankings.csv\"), index = None)\n",
    "\n"
   ]
  },
  {
   "cell_type": "code",
   "execution_count": 3,
   "metadata": {},
   "outputs": [],
   "source": [
    "for i in range(0, 20):\n",
    "    i2 = str(i).zfill(2)\n",
    "    df = pd.read_csv(\"https://raw.githubusercontent.com/ewenme/transfers/master/data/20\"+i2+\"/english_premier_league.csv\")\n",
    "    df.to_csv(os.path.join(i2+str(i+1).zfill(2)+\"/Transfers.csv\"), index = None)\n"
   ]
  },
  {
   "cell_type": "code",
   "execution_count": null,
   "metadata": {},
   "outputs": [],
   "source": []
  }
 ]
}